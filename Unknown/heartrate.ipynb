{
 "cells": [
  {
   "cell_type": "code",
   "execution_count": 1,
   "id": "766ca373",
   "metadata": {},
   "outputs": [
    {
     "ename": "ModuleNotFoundError",
     "evalue": "No module named 'heartpy'",
     "output_type": "error",
     "traceback": [
      "\u001b[0;31m---------------------------------------------------------------------------\u001b[0m",
      "\u001b[0;31mModuleNotFoundError\u001b[0m                       Traceback (most recent call last)",
      "Cell \u001b[0;32mIn[1], line 3\u001b[0m\n\u001b[1;32m      1\u001b[0m \u001b[38;5;28;01mimport\u001b[39;00m \u001b[38;5;21;01mmatplotlib\u001b[39;00m\u001b[38;5;21;01m.\u001b[39;00m\u001b[38;5;21;01mpyplot\u001b[39;00m \u001b[38;5;28;01mas\u001b[39;00m \u001b[38;5;21;01mplt\u001b[39;00m\n\u001b[1;32m      2\u001b[0m \u001b[38;5;28;01mimport\u001b[39;00m \u001b[38;5;21;01mnumpy\u001b[39;00m \u001b[38;5;28;01mas\u001b[39;00m \u001b[38;5;21;01mnp\u001b[39;00m\n\u001b[0;32m----> 3\u001b[0m \u001b[38;5;28;01mimport\u001b[39;00m \u001b[38;5;21;01mheartpy\u001b[39;00m \u001b[38;5;28;01mas\u001b[39;00m \u001b[38;5;21;01mhp\u001b[39;00m\n\u001b[1;32m      5\u001b[0m sample_rate \u001b[38;5;241m=\u001b[39m \u001b[38;5;241m360\u001b[39m\n",
      "\u001b[0;31mModuleNotFoundError\u001b[0m: No module named 'heartpy'"
     ]
    }
   ],
   "source": [
    "import matplotlib.pyplot as plt\n",
    "import numpy as np\n",
    "import heartpy as hp\n",
    "\n",
    "sample_rate = 360"
   ]
  },
  {
   "cell_type": "code",
   "execution_count": null,
   "id": "14d92625",
   "metadata": {},
   "outputs": [],
   "source": [
    "def load_visualise(data_file, annotations_file):\n",
    "    '''\n",
    "    loads data and annotations, plots them \n",
    "    and returns data and annotations\n",
    "    '''\n",
    "    \n",
    "    \n",
    "    #load the data\n",
    "    ecg = hp.get_data(data_file)\n",
    "\n",
    "    #get the annotations\n",
    "    annotations = hp.get_data(annotations_file)\n",
    "    #explore signal\n",
    "    plt.figure(figsize=(12,3))\n",
    "    plt.plot(ecg)\n",
    "    plt.scatter(annotations, [ecg[int(x)] for x in annotations], color='green')\n",
    "    plt.show()\n",
    "\n",
    "    #and zoom in\n",
    "    plt.figure(figsize=(12,3))\n",
    "    plt.plot(ecg)\n",
    "    plt.scatter(annotations, [ecg[int(x)] for x in annotations], color='green')\n",
    "    plt.xlim(20000, 26000)\n",
    "    plt.show()\n",
    "    \n",
    "    return ecg, annotations\n",
    "\n",
    "ecg, annotations = load_visualise('118e24.csv', '118e24_ann.csv')\n"
   ]
  },
  {
   "cell_type": "code",
   "execution_count": 2,
   "id": "b71b358b",
   "metadata": {},
   "outputs": [
    {
     "ename": "NameError",
     "evalue": "name 'ecg' is not defined",
     "output_type": "error",
     "traceback": [
      "\u001b[0;31m---------------------------------------------------------------------------\u001b[0m",
      "\u001b[0;31mNameError\u001b[0m                                 Traceback (most recent call last)",
      "Cell \u001b[0;32mIn[2], line 25\u001b[0m\n\u001b[1;32m     21\u001b[0m     plt\u001b[38;5;241m.\u001b[39mshow()\n\u001b[1;32m     23\u001b[0m     \u001b[38;5;28;01mreturn\u001b[39;00m filtered\n\u001b[0;32m---> 25\u001b[0m filtered \u001b[38;5;241m=\u001b[39m filter_and_visualise(\u001b[43mecg\u001b[49m, sample_rate)\n",
      "\u001b[0;31mNameError\u001b[0m: name 'ecg' is not defined"
     ]
    }
   ],
   "source": [
    "def filter_and_visualise(data, sample_rate):\n",
    "    '''\n",
    "    function that filters using remove_baseline_wander \n",
    "    and visualises result\n",
    "    '''\n",
    "    \n",
    "    filtered = hp.remove_baseline_wander(data, sample_rate)\n",
    "\n",
    "    plt.figure(figsize=(12,3))\n",
    "    plt.title('signal with baseline wander removed')\n",
    "    plt.plot(filtered)\n",
    "    plt.show()\n",
    "\n",
    "    #And let's plot both original and filtered signal, and zoom in to show peaks are not moved\n",
    "    #We'll also scale both signals with hp.scale_data\n",
    "    #This is so that they have the same amplitude so that the overlap is better visible\n",
    "    plt.figure(figsize=(12,3))\n",
    "    plt.title('zoomed in signal with baseline wander removed, original signal overlaid')\n",
    "    plt.plot(hp.scale_data(data[200:1200]))\n",
    "    plt.plot(hp.scale_data(filtered[200:1200]))\n",
    "    plt.show()\n",
    "    \n",
    "    return filtered\n",
    "\n",
    "filtered = filter_and_visualise(ecg, sample_rate)"
   ]
  },
  {
   "cell_type": "code",
   "execution_count": null,
   "id": "eed0c01e",
   "metadata": {},
   "outputs": [],
   "source": []
  }
 ],
 "metadata": {
  "kernelspec": {
   "display_name": "Python 3 (ipykernel)",
   "language": "python",
   "name": "python3"
  },
  "language_info": {
   "codemirror_mode": {
    "name": "ipython",
    "version": 3
   },
   "file_extension": ".py",
   "mimetype": "text/x-python",
   "name": "python",
   "nbconvert_exporter": "python",
   "pygments_lexer": "ipython3",
   "version": "3.10.8"
  }
 },
 "nbformat": 4,
 "nbformat_minor": 5
}
